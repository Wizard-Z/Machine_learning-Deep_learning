{
 "cells": [
  {
   "cell_type": "markdown",
   "metadata": {},
   "source": [
    "# RNN for sentiment prediction.\n",
    "Movie review dataset is used. <br>\n",
    "Below is the network diagram.\n",
    "![RNN](assets/sentiment_rnn.png \"Recurrent Neural Network\")"
   ]
  },
  {
   "cell_type": "markdown",
   "metadata": {
    "colab_type": "text",
    "id": "BK-2PntMn7bZ"
   },
   "source": [
    "## 0. Imports"
   ]
  },
  {
   "cell_type": "code",
   "execution_count": 1,
   "metadata": {
    "colab": {},
    "colab_type": "code",
    "id": "Cswpnz44n8Fz"
   },
   "outputs": [],
   "source": [
    "import torch\n",
    "from torch import nn\n",
    "from torch.utils.data import TensorDataset, DataLoader\n",
    "import numpy as np\n",
    "from collections import Counter\n",
    "from sklearn.model_selection import train_test_split\n",
    "from string import punctuation"
   ]
  },
  {
   "cell_type": "markdown",
   "metadata": {
    "colab_type": "text",
    "id": "awu-b3afn7MO"
   },
   "source": [
    "## 1. Data Preprocessing and Batches"
   ]
  },
  {
   "cell_type": "code",
   "execution_count": 2,
   "metadata": {
    "colab": {
     "base_uri": "https://localhost:8080/",
     "height": 118
    },
    "colab_type": "code",
    "id": "JwmHA2v5n8xp",
    "outputId": "67999cbc-2d92-4d48-e77c-cf63af1d749f"
   },
   "outputs": [
    {
     "name": "stdout",
     "output_type": "stream",
     "text": [
      "bromwell h positive\n",
      "negative\n",
      "positive\n",
      "negative\n",
      "positive\n",
      "negat\n"
     ]
    }
   ],
   "source": [
    "PATH = 'data/'\n",
    "\n",
    "with open(PATH + 'reviews.txt', 'r') as f:\n",
    "  reviews = f.read()\n",
    "with open(PATH + 'labels.txt', 'r') as f:\n",
    "  labels = f.read()\n",
    "\n",
    "print(reviews[:10], labels[:50])"
   ]
  },
  {
   "cell_type": "code",
   "execution_count": 3,
   "metadata": {
    "colab": {
     "base_uri": "https://localhost:8080/",
     "height": 87
    },
    "colab_type": "code",
    "id": "UbAK7fPRn9OL",
    "outputId": "d253d9d1-824a-4132-872d-4a7075273b39"
   },
   "outputs": [
    {
     "name": "stdout",
     "output_type": "stream",
     "text": [
      "all_text:\t bromwell high is a cartoon comedy  it ran at the s \n",
      "words:\t ['bromwell', 'high', 'is', 'a', 'cartoon', 'comedy', 'it', 'ran', 'at', 'the'] \n",
      "review_split:\t ['bromwell high is a cartoon comedy  it ran at the same time as some other programs about school life  such as  teachers   my   years in the teaching profession lead me to believe that bromwell high  s satire is much closer to reality than is  teachers   the scramble to survive financially  the insightful students who can see right through their pathetic teachers  pomp  the pettiness of the whole situation  all remind me of the schools i knew and their students  when i saw the episode in which a student repeatedly tried to burn down the school  i immediately recalled          at           high  a classic line inspector i  m here to sack one of your teachers  student welcome to bromwell high  i expect that many adults of my age think that bromwell high is far fetched  what a pity that it isn  t   ', 'story of a man who has unnatural feelings for a pig  starts out with a opening scene that is a terrific example of absurd comedy  a formal orchestra audience is turned into an insane  violent mob by the crazy chantings of it  s singers  unfortunately it stays absurd the whole time with no general narrative eventually making it just too off putting  even those from the era should be turned off  the cryptic dialogue would make shakespeare seem easy to a third grader  on a technical level it  s better than you might think with some good cinematography by future great vilmos zsigmond  future stars sally kirkland and frederic forrest can be seen briefly   ']\n"
     ]
    }
   ],
   "source": [
    "def tokenize_review(reviews):\n",
    "  reviews = reviews.lower()\n",
    "  all_text = ''.join([ch for ch in reviews if ch not in punctuation])\n",
    "  words = all_text.split()\n",
    "  reviews_split = all_text.split('\\n')\n",
    "  return all_text, words, reviews_split\n",
    "\n",
    "all_text, words, reviews_split = tokenize_review(reviews)\n",
    "\n",
    "print('all_text:\\t', all_text[:50],\n",
    "     '\\nwords:\\t',words[:10],\n",
    "      '\\nreview_split:\\t',reviews_split[:2])\n"
   ]
  },
  {
   "cell_type": "markdown",
   "metadata": {
    "colab_type": "text",
    "id": "Ah3V7RrCn7Ex"
   },
   "source": [
    "## Encoding datasets"
   ]
  },
  {
   "cell_type": "code",
   "execution_count": 5,
   "metadata": {
    "colab": {
     "base_uri": "https://localhost:8080/",
     "height": 322
    },
    "colab_type": "code",
    "id": "SFnvQDnOn9qJ",
    "outputId": "5f2f0487-4c6c-4a34-9e25-0b19a7739ee5"
   },
   "outputs": [
    {
     "name": "stdout",
     "output_type": "stream",
     "text": [
      "Unique words:  74072\n",
      "\n",
      "\n",
      "\n",
      "bromwell: 21025 \n",
      "\n",
      "Original:\n",
      " bromwell high is a cartoon comedy  it ran at the same time as some other programs about school life  such as  teachers   my   years in the teaching profession lead me to believe that bromwell high  s satire is much closer to reality than is  teachers   the scramble to survive financially  the insightful students who can see right through their pathetic teachers  pomp  the pettiness of the whole situation  all remind me of the schools i knew and their students  when i saw the episode in which a student repeatedly tried to burn down the school  i immediately recalled          at           high  a classic line inspector i  m here to sack one of your teachers  student welcome to bromwell high  i expect that many adults of my age think that bromwell high is far fetched  what a pity that it isn  t    \n",
      "\n",
      "Encoded Tokenized reviews: \n",
      " [[21025, 308, 6, 3, 1050, 207, 8, 2138, 32, 1, 171, 57, 15, 49, 81, 5785, 44, 382, 110, 140, 15, 5194, 60, 154, 9, 1, 4975, 5852, 475, 71, 5, 260, 12, 21025, 308, 13, 1978, 6, 74, 2395, 5, 613, 73, 6, 5194, 1, 24103, 5, 1983, 10166, 1, 5786, 1499, 36, 51, 66, 204, 145, 67, 1199, 5194, 19869, 1, 37442, 4, 1, 221, 883, 31, 2988, 71, 4, 1, 5787, 10, 686, 2, 67, 1499, 54, 10, 216, 1, 383, 9, 62, 3, 1406, 3686, 783, 5, 3483, 180, 1, 382, 10, 1212, 13583, 32, 308, 3, 349, 341, 2913, 10, 143, 127, 5, 7690, 30, 4, 129, 5194, 1406, 2326, 5, 21025, 308, 10, 528, 12, 109, 1448, 4, 60, 543, 102, 12, 21025, 308, 6, 227, 4146, 48, 3, 2211, 12, 8, 215, 23]] \n",
      "\n",
      "Original Labels:\n",
      " ['positive', 'negative', 'positive'] \n",
      "\n",
      "Encoded Labels:\n",
      " [1 0 1]\n"
     ]
    }
   ],
   "source": [
    "## Define these under network\n",
    "\n",
    "# _, words, reviews_split = tokenize_review(reviews)\n",
    "c = Counter(words)\n",
    "sorted_words = [c for c,i in c.most_common()]\n",
    "vocab_to_int = {c:i for i, c in enumerate(sorted_words,1)}\n",
    "\n",
    "def get_encoded(reviews, vocab_to_int = vocab_to_int):\n",
    "  _,_,reviews_split = tokenize_review(reviews)\n",
    "  reviews_ints = []\n",
    "  for review in reviews_split:\n",
    "    reviews_ints.append([vocab_to_int[word] for word in review.split() if word in vocab_to_int])\n",
    "  return reviews_ints\n",
    "\n",
    "reviews_ints = get_encoded(reviews)\n",
    "  \n",
    "# Encoding Labels\n",
    "encoded_labels = np.array([1 if label == 'positive' else 0 for label in labels.split()])\n",
    "  \n",
    "# Check...\n",
    "print('Unique words: ', len((vocab_to_int)))  # should ~ 74000+\n",
    "print()\n",
    "\n",
    "# print tokens in first review\n",
    "print('\\n\\nbromwell:',vocab_to_int['bromwell'],\n",
    "      '\\n\\nOriginal:\\n',reviews_split[0],\n",
    "      '\\n\\nEncoded Tokenized reviews: \\n', reviews_ints[:1],\n",
    "      '\\n\\nOriginal Labels:\\n', labels.split()[:3],\n",
    "      '\\n\\nEncoded Labels:\\n', encoded_labels[:3])\n",
    "\n",
    "\n"
   ]
  },
  {
   "cell_type": "markdown",
   "metadata": {
    "colab_type": "text",
    "id": "9DbqVl45n68i"
   },
   "source": [
    "## Removing Outliers and padding"
   ]
  },
  {
   "cell_type": "code",
   "execution_count": 6,
   "metadata": {
    "colab": {
     "base_uri": "https://localhost:8080/",
     "height": 646
    },
    "colab_type": "code",
    "id": "L2-07huxn_TJ",
    "outputId": "32fa4010-5ed9-4538-e801-de1b83036d2c"
   },
   "outputs": [
    {
     "name": "stdout",
     "output_type": "stream",
     "text": [
      "Zero Length review count: 1\n",
      "Max Length of review: 2514\n",
      "\n",
      "\n",
      "Reviews before removing outliers: 25001\n",
      "After removing outliers:  25000\n",
      "[[    0     0     0     0     0     0     0     0     0     0]\n",
      " [    0     0     0     0     0     0     0     0     0     0]\n",
      " [22382    42 46418    15   706 17139  3389    47    77    35]\n",
      " [ 4505   505    15     3  3342   162  8312  1652     6  4819]\n",
      " [    0     0     0     0     0     0     0     0     0     0]\n",
      " [    0     0     0     0     0     0     0     0     0     0]\n",
      " [    0     0     0     0     0     0     0     0     0     0]\n",
      " [    0     0     0     0     0     0     0     0     0     0]\n",
      " [    0     0     0     0     0     0     0     0     0     0]\n",
      " [   54    10    14   116    60   798   552    71   364     5]\n",
      " [    0     0     0     0     0     0     0     0     0     0]\n",
      " [    0     0     0     0     0     0     0     0     0     0]\n",
      " [    0     0     0     0     0     0     0     0     0     0]\n",
      " [    1   330   578    34     3   162   748  2731     9   325]\n",
      " [    9    11 10171  5305  1946   689   444    22   280   673]\n",
      " [    0     0     0     0     0     0     0     0     0     0]\n",
      " [    1   307 10399  2069  1565  6202  6528  3288 17946 10628]\n",
      " [    0     0     0     0     0     0     0     0     0     0]\n",
      " [   21   122  2069  1565   515  8181    88     6  1325  1182]\n",
      " [    1    20     6    76    40     6    58    81    95     5]\n",
      " [   54    10    84   329 26230 46427    63    10    14   614]\n",
      " [   11    20     6    30  1436 32317  3769   690 15100     6]\n",
      " [    0     0     0     0     0     0     0     0     0     0]\n",
      " [    0     0     0     0     0     0     0     0     0     0]\n",
      " [   40    26   109 17952  1422     9     1   327     4   125]\n",
      " [    0     0     0     0     0     0     0     0     0     0]\n",
      " [   10   499     1   307 10399    55    74     8    13    30]\n",
      " [    0     0     0     0     0     0     0     0     0     0]\n",
      " [    0     0     0     0     0     0     0     0     0     0]\n",
      " [    0     0     0     0     0     0     0     0     0     0]]\n",
      "(25000, 200)\n"
     ]
    }
   ],
   "source": [
    "# Removing zero length reviews and getting length of reviews\n",
    "review_lens = Counter([len(x) for x in reviews_ints])\n",
    "print('Zero Length review count: {}\\nMax Length of review: {}\\n\\n'.format(review_lens[0],max(review_lens)))\n",
    "\n",
    "print('Reviews before removing outliers:',len(reviews_ints))\n",
    "\n",
    "non_zero_idx = [idx for idx,rev in enumerate(reviews_ints) if len(rev) != 0]\n",
    "reviews_ints = [reviews_ints[i] for i in non_zero_idx]\n",
    "encoded_labels = [encoded_labels[i] for i in non_zero_idx]\n",
    "\n",
    "print('After removing outliers: ', len(reviews_ints))\n",
    "\n",
    "def pad_features(arr, seq_length = 200):\n",
    "  batch_size = len(arr)\n",
    "  features = np.zeros((batch_size, seq_length), dtype = int)\n",
    "  for i,row in enumerate(arr):\n",
    "    features[i,-len(row):] = np.array(row)[:seq_length]\n",
    "  return features\n",
    "\n",
    "seq_length = 200\n",
    "\n",
    "features = pad_features(reviews_ints, seq_length=seq_length)\n",
    "\n",
    "## test statements - do not change - ##\n",
    "assert len(features)==len(reviews_ints), \"Your features should have as many rows as reviews.\"\n",
    "assert len(features[0])==seq_length, \"Each feature row should contain seq_length values.\"\n",
    "\n",
    "# print first 10 values of the first 30 batches \n",
    "print(features[:30,:10])\n",
    "print(features.shape)\n"
   ]
  },
  {
   "cell_type": "markdown",
   "metadata": {
    "colab_type": "text",
    "id": "Y3NfkYucn60K"
   },
   "source": [
    "## Training, validation, test and Dataloaders "
   ]
  },
  {
   "cell_type": "code",
   "execution_count": 7,
   "metadata": {
    "colab": {
     "base_uri": "https://localhost:8080/",
     "height": 353
    },
    "colab_type": "code",
    "id": "s32cwi_CncP6",
    "outputId": "a0998032-19fc-49d9-e1c6-98c5b2b0de60"
   },
   "outputs": [
    {
     "name": "stdout",
     "output_type": "stream",
     "text": [
      "\t\t\tFeature Shapes\n",
      "Train set:\t\t(20000, 200) \n",
      "Validation set:\t\t(2500, 200) \n",
      "Test set:\t\t(2500, 200)\n",
      "\n",
      "Sample input size:  torch.Size([50, 200])\n",
      "Sample input: \n",
      " tensor([[   0,    0,    0,  ...,   10,   14, 1081],\n",
      "        [   0,    0,    0,  ...,   32,    8,  286],\n",
      "        [   0,    0,    0,  ...,  720,   85,  207],\n",
      "        ...,\n",
      "        [   0,    0,    0,  ...,    3,  223,  342],\n",
      "        [   0,    0,    0,  ...,    5,    1,  112],\n",
      "        [   0,    0,    0,  ...,  121,    4,  259]])\n",
      "\n",
      "Sample label size:  torch.Size([50])\n",
      "Sample label: \n",
      " tensor([0, 0, 1, 0, 1, 1, 0, 0, 0, 0, 1, 1, 0, 0, 0, 1, 1, 0, 1, 0, 0, 0, 0, 1,\n",
      "        0, 1, 0, 1, 1, 0, 0, 1, 1, 0, 1, 0, 0, 0, 0, 1, 0, 0, 0, 0, 0, 0, 1, 1,\n",
      "        1, 1])\n"
     ]
    }
   ],
   "source": [
    "split_frac = 0.8\n",
    "encoded_labels = np.array(encoded_labels)\n",
    "X_train, X_test, y_train, y_test = train_test_split(features, encoded_labels, test_size=1-split_frac, random_state=42)\n",
    "## split data into training, validation, and test data (features and labels, x and y)\n",
    "X_val, X_test, y_val, y_test = train_test_split(X_test, y_test, test_size=0.5, random_state=42)\n",
    "\n",
    "\n",
    "## print out the shapes of your resultant feature data\n",
    "print('\\t\\t\\tFeature Shapes')\n",
    "print('Train set:\\t\\t{}'.format(X_train.shape),\n",
    "     '\\nValidation set:\\t\\t{}'.format(X_val.shape),\n",
    "     '\\nTest set:\\t\\t{}\\n'.format(X_test.shape))\n",
    "\n",
    "## Dataloaders in pytorch for Batches instead of using generators\n",
    "\n",
    "# create Tensor datasets\n",
    "train_data = TensorDataset(torch.from_numpy(X_train), torch.from_numpy(y_train))\n",
    "valid_data = TensorDataset(torch.from_numpy(X_val), torch.from_numpy(y_val))\n",
    "test_data = TensorDataset(torch.from_numpy(X_test), torch.from_numpy(y_test))\n",
    "\n",
    "# dataloaders\n",
    "batch_size = 50\n",
    "\n",
    "# Shuffle Data\n",
    "train_loader = DataLoader(train_data, shuffle=True, batch_size=batch_size)\n",
    "valid_loader = DataLoader(valid_data, shuffle=True, batch_size=batch_size)\n",
    "test_loader = DataLoader(test_data, shuffle=True, batch_size=batch_size)\n",
    "\n",
    "# Obtain one batch of training data\n",
    "dataiter = iter(train_loader)\n",
    "sample_x, sample_y = dataiter.next()\n",
    "\n",
    "print('Sample input size: ', sample_x.size()) # batch_size, seq_length\n",
    "print('Sample input: \\n', sample_x)\n",
    "print()\n",
    "print('Sample label size: ', sample_y.size()) # batch_size\n",
    "print('Sample label: \\n', sample_y)"
   ]
  },
  {
   "cell_type": "markdown",
   "metadata": {
    "colab_type": "text",
    "id": "mYZ7Qjsz5yYn"
   },
   "source": [
    "## 2. Defining Model Architecture"
   ]
  },
  {
   "cell_type": "code",
   "execution_count": 8,
   "metadata": {
    "colab": {
     "base_uri": "https://localhost:8080/",
     "height": 34
    },
    "colab_type": "code",
    "id": "0Aj88icO6Aw3",
    "outputId": "7d43231b-172c-4036-cbfc-163447b88197"
   },
   "outputs": [
    {
     "name": "stdout",
     "output_type": "stream",
     "text": [
      "Training on GPU\n"
     ]
    }
   ],
   "source": [
    "# Check for GPU\n",
    "train_on_gpu = torch.cuda.is_available()\n",
    "\n",
    "if train_on_gpu:\n",
    "  print('Training on GPU')\n",
    "else:\n",
    "  print('Training on CPU')"
   ]
  },
  {
   "cell_type": "code",
   "execution_count": 0,
   "metadata": {
    "colab": {},
    "colab_type": "code",
    "id": "Co20TX8-58a2"
   },
   "outputs": [],
   "source": [
    "class SentimentRNN(nn.Module):\n",
    "  def __init__(self, vocab_size, output_size, embedding_dim, hidden_dim, n_layers, drop_prob=0.5):\n",
    "    super().__init__()\n",
    "    self.output_size = output_size\n",
    "    self.hidden_dim = hidden_dim\n",
    "    self.n_layers = n_layers\n",
    "    \n",
    "    self.embedding = nn.Embedding(vocab_size, embedding_dim)\n",
    "    self.lstm = nn.LSTM(embedding_dim, hidden_dim, n_layers, dropout = drop_prob, batch_first = True)\n",
    "    # dropout and Linear\n",
    "    self.dropout = nn.Dropout(0.3)\n",
    "    self.fc = nn.Linear(hidden_dim, output_size)\n",
    "    self.sigmoid = nn.Sigmoid()\n",
    "    \n",
    "  def forward(self, x, hidden):\n",
    "    batch_size = x.size(0)\n",
    "    \n",
    "    # Embeddings and LSTM output\n",
    "    x = x.long()\n",
    "    embds = self.embedding(x)\n",
    "    r_out, hidden = self.lstm(embds, hidden)\n",
    "    \n",
    "    # Stack up LSTM cells\n",
    "    r_out = r_out.contiguous().view(-1, self.hidden_dim)\n",
    "    out = self.fc(self.dropout(r_out))\n",
    "    \n",
    "    # Sigmoid output\n",
    "    sig_out = self.sigmoid(out)\n",
    "    \n",
    "    # Reshape output received from Sigmoid layer\n",
    "    sig_out = sig_out.view(batch_size, -1)\n",
    "    sig_out = sig_out[:,-1] # Taking only the output from the last sigmoid cell.\n",
    "    \n",
    "    return sig_out, hidden\n",
    "  \n",
    "  def init_hidden(self, batch_size):\n",
    "    ''' Initializes hidden state '''\n",
    "    # Create two new tensors with sizes n_layers x batch_size x hidden_dim,\n",
    "    # initialized to zero, for hidden state and cell state of LSTM\n",
    "    weight = next(self.parameters()).data\n",
    "\n",
    "    if (train_on_gpu):\n",
    "      hidden = (weight.new(self.n_layers, batch_size, self.hidden_dim).zero_().cuda(),\n",
    "      weight.new(self.n_layers, batch_size, self.hidden_dim).zero_().cuda())\n",
    "    else:\n",
    "      hidden = (weight.new(self.n_layers, batch_size, self.hidden_dim).zero_(),\n",
    "      weight.new(self.n_layers, batch_size, self.hidden_dim).zero_())\n",
    "\n",
    "    return hidden\n",
    "\n",
    "    \n",
    "    \n",
    "    \n",
    "    "
   ]
  },
  {
   "cell_type": "markdown",
   "metadata": {
    "colab_type": "text",
    "id": "bovkSGAYD3zH"
   },
   "source": [
    "## Instantiate network"
   ]
  },
  {
   "cell_type": "code",
   "execution_count": 10,
   "metadata": {
    "colab": {
     "base_uri": "https://localhost:8080/",
     "height": 134
    },
    "colab_type": "code",
    "id": "fbEGEgWZDxoE",
    "outputId": "e9f541c2-ac7a-4588-f974-2616e3feedfb"
   },
   "outputs": [
    {
     "name": "stdout",
     "output_type": "stream",
     "text": [
      "SentimentRNN(\n",
      "  (embedding): Embedding(74073, 100)\n",
      "  (lstm): LSTM(100, 128, num_layers=2, batch_first=True, dropout=0.5)\n",
      "  (dropout): Dropout(p=0.3)\n",
      "  (fc): Linear(in_features=128, out_features=1, bias=True)\n",
      "  (sigmoid): Sigmoid()\n",
      ")\n"
     ]
    }
   ],
   "source": [
    "vocab_size = len(vocab_to_int) + 1\n",
    "output_size = 1 \n",
    "embedding_dim = 100 \n",
    "hidden_dim = 128\n",
    "n_layers = 2\n",
    "\n",
    "net = SentimentRNN(vocab_size, output_size, embedding_dim, hidden_dim, n_layers)\n",
    "\n",
    "print(net)"
   ]
  },
  {
   "cell_type": "markdown",
   "metadata": {
    "colab_type": "text",
    "id": "Gbou9v8TEN7M"
   },
   "source": [
    "## 3. Train Network"
   ]
  },
  {
   "cell_type": "code",
   "execution_count": 0,
   "metadata": {
    "colab": {},
    "colab_type": "code",
    "id": "lUea-BnvECux"
   },
   "outputs": [],
   "source": [
    "lr = 0.001\n",
    "criterion = nn.BCELoss()\n",
    "optimizer = torch.optim.Adam(net.parameters(), lr = lr)\n"
   ]
  },
  {
   "cell_type": "code",
   "execution_count": 12,
   "metadata": {
    "colab": {
     "base_uri": "https://localhost:8080/",
     "height": 319
    },
    "colab_type": "code",
    "id": "mq4tdrY1EfEu",
    "outputId": "edf4d197-2c4a-4733-d5b7-068e3f06ed07"
   },
   "outputs": [
    {
     "name": "stdout",
     "output_type": "stream",
     "text": [
      "Epoch: 1/4... Step: 100... Loss: 0.650502... Val Loss: 0.707528\n",
      "Epoch: 1/4... Step: 200... Loss: 0.657278... Val Loss: 0.617991\n",
      "Epoch: 1/4... Step: 300... Loss: 0.560070... Val Loss: 0.618151\n",
      "Epoch: 1/4... Step: 400... Loss: 0.648672... Val Loss: 0.720080\n",
      "Epoch: 2/4... Step: 500... Loss: 0.522536... Val Loss: 0.591327\n",
      "Epoch: 2/4... Step: 600... Loss: 0.474078... Val Loss: 0.556692\n",
      "Epoch: 2/4... Step: 700... Loss: 0.468428... Val Loss: 0.518247\n",
      "Epoch: 2/4... Step: 800... Loss: 0.483454... Val Loss: 0.588294\n",
      "Epoch: 3/4... Step: 900... Loss: 0.474491... Val Loss: 0.520276\n",
      "Epoch: 3/4... Step: 1000... Loss: 0.452966... Val Loss: 0.542110\n",
      "Epoch: 3/4... Step: 1100... Loss: 0.399037... Val Loss: 0.508460\n",
      "Epoch: 3/4... Step: 1200... Loss: 0.411399... Val Loss: 0.468619\n",
      "Epoch: 4/4... Step: 1300... Loss: 0.337804... Val Loss: 0.463071\n",
      "Epoch: 4/4... Step: 1400... Loss: 0.462908... Val Loss: 0.579786\n",
      "Epoch: 4/4... Step: 1500... Loss: 0.397692... Val Loss: 0.454176\n",
      "Epoch: 4/4... Step: 1600... Loss: 0.372385... Val Loss: 0.439194\n",
      "CPU times: user 1min 20s, sys: 37.7 s, total: 1min 58s\n",
      "Wall time: 1min 58s\n"
     ]
    }
   ],
   "source": [
    "%%time\n",
    "# training params\n",
    "\n",
    "epochs = 4 # 3-4 is approx where I noticed the validation loss stop decreasing\n",
    "\n",
    "counter = 0\n",
    "print_every = 100\n",
    "clip=5 # gradient clipping\n",
    "\n",
    "# move model to GPU, if available\n",
    "if(train_on_gpu):\n",
    "    net.cuda()\n",
    "\n",
    "net.train()\n",
    "# train for some number of epochs\n",
    "for e in range(epochs):\n",
    "    # initialize hidden state\n",
    "    h = net.init_hidden(batch_size)\n",
    "\n",
    "    # batch loop\n",
    "    for inputs, labels in train_loader:\n",
    "        counter += 1\n",
    "\n",
    "        if(train_on_gpu):\n",
    "            inputs, labels = inputs.cuda(), labels.cuda()\n",
    "\n",
    "        # Creating new variables for the hidden state, otherwise\n",
    "        # we'd backprop through the entire training history\n",
    "        h = tuple([each.data for each in h])\n",
    "\n",
    "        # zero accumulated gradients\n",
    "        net.zero_grad()\n",
    "\n",
    "        # get the output from the model\n",
    "        output, h = net(inputs, h)\n",
    "\n",
    "        # calculate the loss and perform backprop\n",
    "        loss = criterion(output.squeeze(), labels.float())\n",
    "        loss.backward()\n",
    "        # `clip_grad_norm` helps prevent the exploding gradient problem in RNNs / LSTMs.\n",
    "        nn.utils.clip_grad_norm_(net.parameters(), clip)\n",
    "        optimizer.step()\n",
    "\n",
    "        # loss stats\n",
    "        if counter % print_every == 0:\n",
    "            # Get validation loss\n",
    "            val_h = net.init_hidden(batch_size)\n",
    "            val_losses = []\n",
    "            net.eval()\n",
    "            for inputs, labels in valid_loader:\n",
    "\n",
    "                # Creating new variables for the hidden state, otherwise\n",
    "                # we'd backprop through the entire training history\n",
    "                val_h = tuple([each.data for each in val_h])\n",
    "\n",
    "                if(train_on_gpu):\n",
    "                    inputs, labels = inputs.cuda(), labels.cuda()\n",
    "\n",
    "                output, val_h = net(inputs, val_h)\n",
    "                val_loss = criterion(output.squeeze(), labels.float())\n",
    "\n",
    "                val_losses.append(val_loss.item())\n",
    "\n",
    "            net.train()\n",
    "            print(\"Epoch: {}/{}...\".format(e+1, epochs),\n",
    "                  \"Step: {}...\".format(counter),\n",
    "                  \"Loss: {:.6f}...\".format(loss.item()),\n",
    "                  \"Val Loss: {:.6f}\".format(np.mean(val_losses)))"
   ]
  },
  {
   "cell_type": "markdown",
   "metadata": {
    "colab_type": "text",
    "id": "oRtS8efAEupK"
   },
   "source": [
    "## 4. Testing"
   ]
  },
  {
   "cell_type": "code",
   "execution_count": 13,
   "metadata": {
    "colab": {
     "base_uri": "https://localhost:8080/",
     "height": 50
    },
    "colab_type": "code",
    "id": "XJijUKxwE48N",
    "outputId": "131aa074-0cea-44bd-d502-a16b2074202d"
   },
   "outputs": [
    {
     "name": "stdout",
     "output_type": "stream",
     "text": [
      "Test loss: 0.450\n",
      "Test accuracy: 0.814\n"
     ]
    }
   ],
   "source": [
    "\n",
    "test_losses = [] # track loss\n",
    "num_correct = 0\n",
    "\n",
    "# init hidden state\n",
    "h = net.init_hidden(batch_size)\n",
    "\n",
    "net.eval()\n",
    "# iterate over test data\n",
    "for inputs, labels in test_loader:\n",
    "\n",
    "  # Creating new variables for the hidden state, otherwise\n",
    "  # we'd backprop through the entire training history\n",
    "  h = tuple([each.data for each in h])\n",
    "\n",
    "  if(train_on_gpu):\n",
    "      inputs, labels = inputs.cuda(), labels.cuda()\n",
    "    \n",
    "  # get predicted outputs\n",
    "  output, h = net(inputs, h)\n",
    "    \n",
    "  # calculate loss\n",
    "  test_loss = criterion(output.squeeze(), labels.float())\n",
    "  test_losses.append(test_loss.item())\n",
    "    \n",
    "  # convert output probabilities to predicted class (0 or 1)\n",
    "  pred = torch.round(output.squeeze())  # rounds to the nearest integer\n",
    "    \n",
    "  # compare predictions to true label\n",
    "  correct_tensor = pred.eq(labels.float().view_as(pred))\n",
    "  correct = np.squeeze(correct_tensor.numpy()) if not train_on_gpu else np.squeeze(correct_tensor.cpu().numpy())\n",
    "  num_correct += np.sum(correct)\n",
    "\n",
    "\n",
    "# -- stats! -- ##\n",
    "# avg test loss\n",
    "print(\"Test loss: {:.3f}\".format(np.mean(test_losses)))\n",
    "\n",
    "# accuracy over all test data\n",
    "test_acc = num_correct/len(test_loader.dataset)\n",
    "print(\"Test accuracy: {:.3f}\".format(test_acc))"
   ]
  },
  {
   "cell_type": "code",
   "execution_count": 0,
   "metadata": {
    "colab": {
     "base_uri": "https://localhost:8080/",
     "height": 70
    },
    "colab_type": "code",
    "id": "_oT7a6FLqnTG",
    "outputId": "2f93302a-b8b9-42f9-9b7d-129bd174dd7a"
   },
   "outputs": [
    {
     "name": "stdout",
     "output_type": "stream",
     "text": [
      "Test String:\n",
      " The worst movie I have seen; acting was terrible and I want my money back. This movie had bad acting and the dialogue was slow. asdfasfdsadfasdf asdf hey\n"
     ]
    }
   ],
   "source": [
    "test_review_neg = 'The worst movie I have seen; acting was terrible and I want my money back. This movie had bad acting and the dialogue was slow. asdfasfdsadfasdf asdf hey'\n"
   ]
  },
  {
   "cell_type": "code",
   "execution_count": 0,
   "metadata": {
    "colab": {},
    "colab_type": "code",
    "id": "ntJbpZuOEmj_"
   },
   "outputs": [],
   "source": [
    "def predict(net, review, sequence_length = 200):\n",
    "  \n",
    "  # Convert review to appropriate format.\n",
    "  features = pad_features(get_encoded(review))\n",
    "  features_tensor = torch.from_numpy(features)\n",
    "  \n",
    "  # Set the model to eval mode\n",
    "  net.eval()\n",
    "  batch_size = features_tensor.size(0)\n",
    "  \n",
    "  # Initialize hidden state\n",
    "  h = net.init_hidden(batch_size)\n",
    "  \n",
    "  if train_on_gpu:\n",
    "    features_tensor = features_tensor.cuda()\n",
    "    \n",
    "  output, h = net(features_tensor, h)\n",
    "  \n",
    "  # Get predictions\n",
    "  pred = torch.round(output.squeeze())\n",
    "  \n",
    "  # Print Prediction\n",
    "  print('Prediction value, pre-rounding: {:.6f}'.format(output.item()))\n",
    "  \n",
    "  if pred.item() == 1:\n",
    "    print('POSITIVE')\n",
    "  else:\n",
    "    print('NEGATIVE')\n",
    "  \n",
    "  \n",
    "  \n",
    "  "
   ]
  },
  {
   "cell_type": "code",
   "execution_count": 30,
   "metadata": {
    "colab": {
     "base_uri": "https://localhost:8080/",
     "height": 50
    },
    "colab_type": "code",
    "id": "HTCxt8auqf6Y",
    "outputId": "2a6a9f0e-3f78-45fe-fdb3-dd1dea3ce156"
   },
   "outputs": [
    {
     "name": "stdout",
     "output_type": "stream",
     "text": [
      "Prediction value, pre-rounding: 0.009870\n",
      "NEGATIVE\n"
     ]
    }
   ],
   "source": [
    "predict(net, test_review_neg)"
   ]
  },
  {
   "cell_type": "code",
   "execution_count": 31,
   "metadata": {
    "colab": {
     "base_uri": "https://localhost:8080/",
     "height": 50
    },
    "colab_type": "code",
    "id": "LCJDB8Zsqsjc",
    "outputId": "6e2f3945-00b8-4af4-d79b-48e45361103b"
   },
   "outputs": [
    {
     "name": "stdout",
     "output_type": "stream",
     "text": [
      "Prediction value, pre-rounding: 0.943422\n",
      "POSITIVE\n"
     ]
    }
   ],
   "source": [
    "test_review_pos = 'This movie had the best acting and the dialogue was so good. I loved it.'\n",
    "predict(net, test_review_pos)"
   ]
  },
  {
   "cell_type": "code",
   "execution_count": 0,
   "metadata": {
    "colab": {},
    "colab_type": "code",
    "id": "yU69Wex_rTfR"
   },
   "outputs": [],
   "source": []
  }
 ],
 "metadata": {
  "accelerator": "GPU",
  "colab": {
   "collapsed_sections": [],
   "name": "sentiment_nn.ipynb",
   "provenance": [],
   "version": "0.3.2"
  },
  "kernelspec": {
   "display_name": "Python 3",
   "language": "python",
   "name": "python3"
  },
  "language_info": {
   "codemirror_mode": {
    "name": "ipython",
    "version": 3
   },
   "file_extension": ".py",
   "mimetype": "text/x-python",
   "name": "python",
   "nbconvert_exporter": "python",
   "pygments_lexer": "ipython3",
   "version": "3.7.1"
  }
 },
 "nbformat": 4,
 "nbformat_minor": 1
}
